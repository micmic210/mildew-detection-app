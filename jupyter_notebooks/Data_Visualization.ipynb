{
  "cells": [
    {
      "cell_type": "markdown",
      "metadata": {
        "id": "0aStgWSO0E0E"
      },
      "source": [
        "# **DATA VISUALIZATION**"
      ]
    },
    {
      "cell_type": "markdown",
      "metadata": {},
      "source": [
        "\n",
        "This notebook provides visual insights into the cherry leaf dataset, supporting the business requirement of distinguishing healthy and mildew-affected leaves.  \n",
        "\n",
        "## **Objectives**\n",
        "- Analyze image properties to understand dataset structure.  \n",
        "- Visualize class distributions to check dataset balance.  \n",
        "- Identify key visual differences between Healthy and Infected leaves.  \n",
        "- Generate visuals for the Streamlit dashboard, ensuring interactive data exploration.  \n",
        "\n",
        "## **Inputs**\n",
        "- Dataset Directories:  \n",
        "  - inputs/mildew_dataset/cherry-leaves/train  \n",
        "  - inputs/mildew_dataset/cherry-leaves/validation  \n",
        "  - inputs/mildew_dataset/cherry-leaves/test\n",
        "\n",
        "## **Outputs**\n",
        "- Image Shape Embeddings: Stores the standard image size for preprocessing.  \n",
        "- Class Distribution Visualizations: Simple bar charts showing dataset balance.  \n",
        "- Image Statistics: Mean and variability of images per class.  \n",
        "- Image Montage: Representative samples of Healthy and Infected leaves.  \n",
        "- Pixel Intensity Histograms: To explore brightness differences.  \n",
        "\n",
        "## **Why This Matters?**\n",
        "- Understanding dataset structure helps optimize preprocessing for model training.  \n",
        "- Identifying visual patterns informs feature extraction strategies (e.g., contrast, texture).  \n",
        "- Ensuring dataset balance prevents bias in model predictions.  \n",
        "- Generating interactive visuals improves usability in the Streamlit dashboard.  "
      ]
    },
    {
      "cell_type": "markdown",
      "metadata": {},
      "source": [
        "---"
      ]
    },
    {
      "cell_type": "markdown",
      "metadata": {},
      "source": [
        "### **Import Libraries**"
      ]
    },
    {
      "cell_type": "code",
      "execution_count": null,
      "metadata": {},
      "outputs": [],
      "source": [
        "import os\n",
        "import pandas as pd\n",
        "import numpy as np\n",
        "import matplotlib.pyplot as plt\n",
        "import seaborn as sns\n",
        "import joblib\n",
        "sns.set_style(\"white\")\n",
        "from matplotlib.image import imread"
      ]
    },
    {
      "cell_type": "markdown",
      "metadata": {
        "id": "9uWZXH9LwoQg"
      },
      "source": [
        "---"
      ]
    },
    {
      "cell_type": "markdown",
      "metadata": {
        "id": "cqP-UeN-z3i2"
      },
      "source": [
        "## **Set Working Environment**"
      ]
    },
    {
      "cell_type": "markdown",
      "metadata": {},
      "source": [
        "---"
      ]
    },
    {
      "cell_type": "markdown",
      "metadata": {},
      "source": [
        "#### **Set Working Directory**"
      ]
    },
    {
      "cell_type": "code",
      "execution_count": null,
      "metadata": {
        "id": "wZfF_j-Bz3i4",
        "outputId": "66943449-1436-4c3d-85c7-b85f9f78349b"
      },
      "outputs": [],
      "source": [
        "cwd= os.getcwd()"
      ]
    },
    {
      "cell_type": "code",
      "execution_count": null,
      "metadata": {
        "id": "TwHsQRWjz3i9",
        "outputId": "86849db3-cd2f-4cc5-ebb8-2d0caafa1a2c"
      },
      "outputs": [],
      "source": [
        "os.chdir('/workspaces/mildew-detection-app')\n",
        "print(\"You set a new current directory\")"
      ]
    },
    {
      "cell_type": "code",
      "execution_count": null,
      "metadata": {
        "id": "vz3S-_kjz3jA",
        "outputId": "00b79ae4-75d0-4a96-d193-ac9ef9847ea2"
      },
      "outputs": [],
      "source": [
        "work_dir = os.getcwd()\n",
        "work_dir"
      ]
    },
    {
      "cell_type": "markdown",
      "metadata": {
        "id": "-mavJ8DibrcQ"
      },
      "source": [
        "#### **Set Input Directories**"
      ]
    },
    {
      "cell_type": "code",
      "execution_count": null,
      "metadata": {},
      "outputs": [],
      "source": [
        "# Set input directories\n",
        "my_data_dir = 'inputs/mildew_dataset/cherry-leaves'\n",
        "train_path = os.path.join(my_data_dir, 'train')\n",
        "val_path = os.path.join(my_data_dir, 'validation')\n",
        "test_path = os.path.join(my_data_dir, 'test')"
      ]
    },
    {
      "cell_type": "markdown",
      "metadata": {
        "id": "uFQo3ycuO-v6"
      },
      "source": [
        "#### **Set Output Directory**"
      ]
    },
    {
      "cell_type": "code",
      "execution_count": null,
      "metadata": {},
      "outputs": [],
      "source": [
        "version = 'v1'\n",
        "file_path = f'outputs/{version}'\n",
        "\n",
        "if 'outputs' in os.listdir(work_dir) and version in os.listdir(work_dir + '/outputs'):\n",
        "    print('Old version is already available create a new version.')\n",
        "    pass\n",
        "else:\n",
        "    os.makedirs(name=file_path)"
      ]
    },
    {
      "cell_type": "markdown",
      "metadata": {},
      "source": [
        "### **Load Dataset & Labels**"
      ]
    },
    {
      "cell_type": "markdown",
      "metadata": {},
      "source": [
        "#### **Set Labels**"
      ]
    },
    {
      "cell_type": "code",
      "execution_count": null,
      "metadata": {},
      "outputs": [],
      "source": [
        "# Set the labels for the images\n",
        "labels = os.listdir(train_path)\n",
        "print('Label for the images are', labels)"
      ]
    },
    {
      "cell_type": "markdown",
      "metadata": {},
      "source": [
        "---"
      ]
    },
    {
      "cell_type": "markdown",
      "metadata": {},
      "source": [
        "## **Data Visualization of Image Data**"
      ]
    },
    {
      "cell_type": "markdown",
      "metadata": {},
      "source": [
        "---"
      ]
    },
    {
      "cell_type": "markdown",
      "metadata": {},
      "source": [
        "### **Image Shape and Size Analysis**"
      ]
    },
    {
      "cell_type": "markdown",
      "metadata": {},
      "source": [
        "#### **Interactive Scatter Plot: Image Size Distribution**"
      ]
    },
    {
      "cell_type": "code",
      "execution_count": null,
      "metadata": {},
      "outputs": [],
      "source": [
        "from matplotlib.image import imread\n",
        "\n",
        "# Compute average image dimensions on the train set\n",
        "dim1, dim2, labels_list = [], [], []\n",
        "\n",
        "for label in labels:\n",
        "    for image_filename in os.listdir(train_path + '/' + label):\n",
        "        img = imread(train_path + '/' + label + '/' + image_filename)\n",
        "        d1, d2, _ = img.shape  # Extract image height and width\n",
        "        dim1.append(d1)  # Height\n",
        "        dim2.append(d2)  # Width\n",
        "        labels_list.append(label)  # Store the corresponding class label\n",
        "\n",
        "# Convert to a DataFrame for Plotly\n",
        "import pandas as pd\n",
        "df_dims = pd.DataFrame({\"Width\": dim2, \"Height\": dim1, \"Label\": labels_list})\n",
        "\n",
        "# Compute mean values\n",
        "dim1_mean = int(np.mean(dim1))  # Mean height\n",
        "dim2_mean = int(np.mean(dim2))  # Mean width\n",
        "\n",
        "# Create an interactive scatter plot\n",
        "fig = px.scatter(df_dims, x=\"Width\", y=\"Height\", color=\"Label\",\n",
        "                 title=\"Interactive Scatter Plot: Image Size Distribution\",\n",
        "                 labels={\"Width\": \"Image Width (Pixels)\", \"Height\": \"Image Height (Pixels)\"},\n",
        "                 opacity=0.5, hover_data=[\"Label\"])\n",
        "\n",
        "# Add mean lines (reference for average width and height)\n",
        "fig.add_vline(x=dim2_mean, line_dash=\"dash\", line_color=\"red\", annotation_text=f\"Mean Width: {dim2_mean}\")\n",
        "fig.add_hline(y=dim1_mean, line_dash=\"dash\", line_color=\"red\", annotation_text=f\"Mean Height: {dim1_mean}\")\n",
        "\n",
        "# Show the interactive plot\n",
        "fig.show()\n",
        "\n",
        "# Print mean values\n",
        "print(f\"Width average: {dim2_mean} \\nHeight average: {dim1_mean}\")"
      ]
    },
    {
      "cell_type": "markdown",
      "metadata": {},
      "source": [
        "#### **Total Number of Images per Class**"
      ]
    },
    {
      "cell_type": "code",
      "execution_count": null,
      "metadata": {},
      "outputs": [],
      "source": [
        "# Define dataset directory\n",
        "my_data_dir = \"inputs/mildew_dataset/cherry-leaves\"\n",
        "labels = [\"Healthy\", \"Infected\"]\n",
        "sets = [\"train\", \"validation\", \"test\"]\n",
        "\n",
        "# Count total images per class (Healthy, Infected)\n",
        "class_counts = {}\n",
        "for label in labels:\n",
        "    total_images = sum(len(os.listdir(os.path.join(my_data_dir, set_name, label))) if os.path.exists(os.path.join(my_data_dir, set_name, label)) else 0 for set_name in sets)\n",
        "    class_counts[label] = total_images\n",
        "\n",
        "# Convert to DataFrame\n",
        "df_class_counts = pd.DataFrame(list(class_counts.items()), columns=[\"Class\", \"Count\"])\n",
        "\n",
        "# Create a simple bar chart\n",
        "plt.figure(figsize=(5, 4))\n",
        "plt.bar(df_class_counts[\"Class\"], df_class_counts[\"Count\"], color=[\"blue\", \"orange\"])\n",
        "\n",
        "# Add labels and title\n",
        "plt.xlabel(\"Class\")\n",
        "plt.ylabel(\"Number of Images\")\n",
        "plt.title(\"Total Images Per Class\")\n",
        "plt.grid(axis=\"y\")\n",
        "\n",
        "# Show the plot\n",
        "plt.show()"
      ]
    },
    {
      "cell_type": "markdown",
      "metadata": {},
      "source": [
        "#### **Distribution of Image Widths in the Dataset & Distribution of Image Heights in the Dataset**"
      ]
    },
    {
      "cell_type": "code",
      "execution_count": null,
      "metadata": {},
      "outputs": [],
      "source": [
        "import matplotlib.pyplot as plt\n",
        "\n",
        "# Plot histogram of image widths\n",
        "plt.figure(figsize=(6, 4))\n",
        "plt.hist(dim2, bins=20, color=\"blue\", alpha=0.7, edgecolor=\"black\")\n",
        "\n",
        "# Labels and title\n",
        "plt.xlabel(\"Image Width (Pixels)\")\n",
        "plt.ylabel(\"Frequency\")\n",
        "plt.title(\"Distribution of Image Widths in the Dataset\")\n",
        "plt.grid(axis=\"y\", linestyle=\"--\", alpha=0.7)\n",
        "\n",
        "# Show the histogram\n",
        "plt.show()"
      ]
    },
    {
      "cell_type": "markdown",
      "metadata": {},
      "source": [
        "- The **average image size** is **256x256**, but images will be **rescaled to 128x128** for **computational efficiency**."
      ]
    },
    {
      "cell_type": "code",
      "execution_count": null,
      "metadata": {},
      "outputs": [],
      "source": [
        "image_shape = (128, 128, 3)\n",
        "image_shape"
      ]
    },
    {
      "cell_type": "markdown",
      "metadata": {},
      "source": [
        "#### **Save the Image Shape Embeddings**"
      ]
    },
    {
      "cell_type": "code",
      "execution_count": null,
      "metadata": {},
      "outputs": [],
      "source": [
        "joblib.dump(value=image_shape ,\n",
        "            filename=f\"{file_path}/image_shape.pkl\")"
      ]
    },
    {
      "cell_type": "markdown",
      "metadata": {},
      "source": [
        "### **Average and Variability of Image per Label**"
      ]
    },
    {
      "cell_type": "markdown",
      "metadata": {},
      "source": [
        "#### **Function to Load Images into Arrays**"
      ]
    },
    {
      "cell_type": "code",
      "execution_count": null,
      "metadata": {},
      "outputs": [],
      "source": [
        "from tensorflow.keras.preprocessing import image\n",
        "\n",
        "def load_image_as_array(my_data_dir, new_size=image_shape[:2], n_images_per_label=20):\n",
        "    \"\"\"\n",
        "    Loads images, resizes them, and returns them as arrays with labels.\n",
        "    \"\"\"\n",
        "    X, y = np.array([], dtype='int'), np.array([], dtype='object')\n",
        "    labels = os.listdir(my_data_dir)\n",
        "\n",
        "    for label in labels:\n",
        "        counter = 0\n",
        "        for image_filename in os.listdir(my_data_dir + '/' + label):\n",
        "            if counter < n_images_per_label:\n",
        "                img = image.load_img(\n",
        "                    my_data_dir + '/' + label + '/' + image_filename, \n",
        "                    target_size=new_size)  # (height, width)\n",
        "\n",
        "                img_resized = image.img_to_array(img) / 255  # Normalize pixel values\n",
        "\n",
        "                # Append image data and reshape correctly\n",
        "                X = np.append(X, img_resized).reshape(-1, new_size[0], new_size[1], img_resized.shape[2])\n",
        "                y = np.append(y, label)\n",
        "                counter += 1\n",
        "\n",
        "    return X, y"
      ]
    },
    {
      "cell_type": "markdown",
      "metadata": {},
      "source": [
        "#### **Load Image Shapes and Labels in an Array**"
      ]
    },
    {
      "cell_type": "code",
      "execution_count": null,
      "metadata": {},
      "outputs": [],
      "source": [
        "X, y = load_image_as_array(my_data_dir=train_path,\n",
        "                           new_size=image_shape,\n",
        "                           n_images_per_label=30)\n",
        "print(X.shape, y.shape)"
      ]
    },
    {
      "cell_type": "markdown",
      "metadata": {},
      "source": [
        "#### **Plot Mean and Variability**"
      ]
    },
    {
      "cell_type": "code",
      "execution_count": null,
      "metadata": {},
      "outputs": [],
      "source": [
        "def plot_mean_variability_per_labels(X, y, figsize=(12, 5), save_image=False):\n",
        "    \"\"\"\n",
        "    The pseudo-code for the function is:\n",
        "    * Iterate through all unique labels in the dataset.\n",
        "    * Filter the dataset to include only images corresponding to the current label.\n",
        "    * Calculate the mean and standard deviation for the filtered subset.\n",
        "    * Create a figure with two subplots:\n",
        "        - One displaying the mean image for the label.\n",
        "        - The other showing the variability (standard deviation) image.\n",
        "    * Optionally save the generated plots to the specified directory.\n",
        "    \"\"\"\n",
        "\n",
        "    for label_to_display in np.unique(y):\n",
        "        sns.set_style(\"white\")  # Set the plot style\n",
        "\n",
        "        # Create a boolean mask to filter images for the current label\n",
        "        boolean_mask = (y == label_to_display)\n",
        "        arr = X[boolean_mask]\n",
        "\n",
        "        # Compute the mean image and standard deviation image for the current label\n",
        "        avg_img = np.mean(arr, axis=0)\n",
        "        std_img = np.std(arr, axis=0)\n",
        "\n",
        "        print(f\"==== Label {label_to_display} ====\")\n",
        "        print(f\"Image Shape: {avg_img.shape}\")\n",
        "\n",
        "        # Create a figure to display the average and variability images\n",
        "        fig, axes = plt.subplots(nrows=1, ncols=2, figsize=figsize)\n",
        "        axes[0].set_title(f\"Average image for label {label_to_display}\")\n",
        "        if avg_img.shape[-1] == 3:  # Check if RGB\n",
        "            axes[0].imshow(avg_img)  # No cmap for RGB\n",
        "            axes[1].imshow(std_img)\n",
        "        else:  # Grayscale\n",
        "            axes[0].imshow(avg_img, cmap='gray')\n",
        "            axes[1].imshow(std_img, cmap='gray')\n",
        "\n",
        "        axes[1].set_title(f\"Variability image for label {label_to_display}\")\n",
        "\n",
        "        # Save or display the figure based on the `save_image` argument\n",
        "        if save_image:\n",
        "            plt.savefig(f\"{file_path}/avg_var_{label_to_display}.png\",\n",
        "                        bbox_inches='tight', dpi=150)\n",
        "        else:\n",
        "            plt.tight_layout()  # Adjust layout for better spacing\n",
        "            plt.show()\n",
        "        print(\"\\n\")"
      ]
    },
    {
      "cell_type": "code",
      "execution_count": null,
      "metadata": {},
      "outputs": [],
      "source": [
        "plot_mean_variability_per_labels(X=X, y=y, figsize=(12, 5), save_image=True)"
      ]
    },
    {
      "cell_type": "markdown",
      "metadata": {},
      "source": [
        "### **Difference Between Average Healthy and Average Infected Images**"
      ]
    },
    {
      "cell_type": "code",
      "execution_count": null,
      "metadata": {},
      "outputs": [],
      "source": [
        "def subset_image_label(X, y, label_to_display):\n",
        "    \"\"\"\n",
        "    Filters the dataset to include only the images that belong to a specific label.\n",
        "    \"\"\"\n",
        "    # Create a boolean mask to filter for the given label\n",
        "    boolean_mask = (y == label_to_display)\n",
        "    df = X[boolean_mask]  # Subset the dataset\n",
        "    return df\n",
        "\n",
        "\n",
        "def diff_bet_avg_image_labels_data_as_array(X, y, label_1, label_2, figsize=(12, 10), save_image=False):\n",
        "    \"\"\"\n",
        "    Compares the average images between two specified labels.\n",
        "    \"\"\"\n",
        "    sns.set_style(\"white\")\n",
        "\n",
        "    # Calculate mean images\n",
        "    label1_avg = np.mean(X[y == label_1], axis=0)\n",
        "    label2_avg = np.mean(X[y == label_2], axis=0)\n",
        "\n",
        "    # **Fix Clipping Issue**\n",
        "    difference_mean = np.clip(label1_avg - label2_avg, 0, 1)  # Clipping Fix\n",
        "\n",
        "    # Create subplots\n",
        "    fig, axes = plt.subplots(nrows=1, ncols=3, figsize=figsize)\n",
        "\n",
        "    # Determine if the images are RGB or Grayscale\n",
        "    is_rgb = label1_avg.shape[-1] == 3\n",
        "\n",
        "    axes[0].imshow(label1_avg if is_rgb else label1_avg, cmap=None if is_rgb else 'gray')\n",
        "    axes[0].set_title(f'Average {label_1}')\n",
        "\n",
        "    axes[1].imshow(label2_avg if is_rgb else label2_avg, cmap=None if is_rgb else 'gray')\n",
        "    axes[1].set_title(f'Average {label_2}')\n",
        "\n",
        "    axes[2].imshow(difference_mean if is_rgb else difference_mean, cmap=None if is_rgb else 'gray')\n",
        "    axes[2].set_title(f'Difference image: Avg {label_1} & {label_2}')\n",
        "\n",
        "    # Save or display the figure\n",
        "    if save_image:\n",
        "        plt.savefig(f\"{file_path}/avg_diff.png\", bbox_inches='tight', dpi=150)\n",
        "    else:\n",
        "        plt.tight_layout()\n",
        "        plt.show()\n"
      ]
    },
    {
      "cell_type": "code",
      "execution_count": null,
      "metadata": {},
      "outputs": [],
      "source": [
        "diff_bet_avg_image_labels_data_as_array(X=X, y=y,\n",
        "                                        label_1='Healthy', label_2='Infected',\n",
        "                                        figsize=(12, 10),\n",
        "                                        save_image=True\n",
        "                                        )"
      ]
    },
    {
      "cell_type": "code",
      "execution_count": null,
      "metadata": {},
      "outputs": [],
      "source": [
        "def plot_heatmap(diff_image, title=\"Difference Heatmap\"):\n",
        "    \"\"\"\n",
        "    Plots a simple heatmap to visualize the difference between two average images.\n",
        "    \"\"\"\n",
        "    plt.figure(figsize=(6, 5))\n",
        "    sns.heatmap(diff_image, cmap=\"coolwarm\", center=0, annot=False)\n",
        "\n",
        "    # Titles and labels\n",
        "    plt.title(title)\n",
        "    plt.xlabel(\"Width (Pixels)\")\n",
        "    plt.ylabel(\"Height (Pixels)\")\n",
        "\n",
        "    # Show the plot\n",
        "    plt.show()"
      ]
    },
    {
      "cell_type": "code",
      "execution_count": null,
      "metadata": {},
      "outputs": [],
      "source": [
        "plot_heatmap(difference_mean)"
      ]
    },
    {
      "cell_type": "markdown",
      "metadata": {},
      "source": [
        "### **Image Montage**"
      ]
    },
    {
      "cell_type": "code",
      "execution_count": null,
      "metadata": {},
      "outputs": [],
      "source": [
        "import itertools\n",
        "import random\n",
        "sns.set_style(\"white\")\n",
        "\n",
        "\n",
        "def image_montage(dir_path, label_to_display, nrows, ncols, figsize=(15, 10)):\n",
        "    \"\"\"\n",
        "    - Verify if the specified label exists in the directory.\n",
        "    - Ensure the grid size (nrows * ncols) does not exceed the number of available images.\n",
        "    - Select random images to fill the montage grid\n",
        "    - Create a figure to display the images, loading and plotting each in the respective grid space.\n",
        "    \"\"\"\n",
        "\n",
        "    labels = os.listdir(dir_path)\n",
        "\n",
        "    # Check if the specified label exists in the directory\n",
        "    if label_to_display in labels:\n",
        "\n",
        "        # Validate that the montage grid can fit the available images\n",
        "        images_list = os.listdir(dir_path + '/' + label_to_display)\n",
        "        if nrows * ncols <= len(images_list):  \n",
        "            img_idx = random.sample(images_list, nrows * ncols)\n",
        "        else:\n",
        "            print(\n",
        "                f\"Reduce the number of rows or columns for the montage. \\n\"\n",
        "                f\"There are only {len(images_list)} images available. \"\n",
        "                f\"You requested a grid for {nrows * ncols} images.\")\n",
        "            return\n",
        "\n",
        "        # Generate grid indices based on the number of rows and columns\n",
        "        list_rows = range(0, nrows)\n",
        "        list_cols = range(0, ncols)\n",
        "        plot_idx = list(itertools.product(list_rows, list_cols))\n",
        "\n",
        "        # Create a figure and populate it with the selected images\n",
        "        fig, axes = plt.subplots(nrows=nrows, ncols=ncols, figsize=figsize)\n",
        "        for x in range(0, nrows * ncols):\n",
        "            img = imread(dir_path + '/' + label_to_display + '/' + img_idx[x])\n",
        "            img_shape = img.shape\n",
        "            axes[plot_idx[x][0], plot_idx[x][1]].imshow(img)\n",
        "            axes[plot_idx[x][0], plot_idx[x][1]].set_title(\n",
        "                f\"Width: {img_shape[1]}px, Height: {img_shape[0]}px\")\n",
        "            axes[plot_idx[x][0], plot_idx[x][1]].set_xticks([])\n",
        "            axes[plot_idx[x][0], plot_idx[x][1]].set_yticks([])\n",
        "        plt.tight_layout()\n",
        "        plt.show()\n",
        "        plt.close(fig)  \n",
        "\n",
        "    else:\n",
        "        # Notify the user if the selected label does not exist\n",
        "        print(f\"The selected label '{label_to_display}' does not exist.\")\n",
        "        print(f\"Available labels are: {labels}\")"
      ]
    },
    {
      "cell_type": "markdown",
      "metadata": {},
      "source": [
        "### **Run Montage**"
      ]
    },
    {
      "cell_type": "code",
      "execution_count": null,
      "metadata": {},
      "outputs": [],
      "source": [
        "for label in labels:\n",
        "    print(label)\n",
        "    image_montage(dir_path=train_path,\n",
        "                  label_to_display=label,\n",
        "                  nrows=3, ncols=3,\n",
        "                  figsize=(10, 15)\n",
        "                  )\n",
        "    print(\"\\n\")"
      ]
    },
    {
      "cell_type": "markdown",
      "metadata": {},
      "source": [
        "---"
      ]
    },
    {
      "cell_type": "markdown",
      "metadata": {},
      "source": [
        "# **Conclusion and Next Steps**\n",
        "---\n",
        "\n",
        "## Image Distribution \n",
        "- The dataset maintains balance across training, validation, and test sets.  \n",
        "\n",
        "## Image Shape Standardization  \n",
        "- Images originally vary in size (~256x256), but rescaled to 128x128 for computational efficiency.  \n",
        "\n",
        "## Mean & Variability Analysis  \n",
        "- Healthy leaves exhibit more uniform structures, while Infected leaves show greater variability.  \n",
        "\n",
        "## Pixel Intensity & Feature Space Analysis  \n",
        "- Histogram analysis reveals statistical brightness differences between Healthy and Infected leaves.  \n",
        "- PCA suggests class separability, supporting deep learning classification.  \n",
        "\n",
        "---\n",
        "\n",
        "# **Next Steps**\n",
        "## 1. Integrate Visuals into the Streamlit Dashboard  \n",
        "- Display image montages, class distributions, and histograms interactively.  \n",
        "- Add feature space visualizations (e.g., PCA plots) for class differentiation.  \n",
        "\n",
        "## 2. Enhance Data Preprocessing  \n",
        "- Apply data augmentation based on observed variability.  \n",
        "- Consider contrast enhancement (e.g., histogram equalization) for better feature extraction.  \n",
        "\n",
        "## 3. Prepare for Model Training  \n",
        "- Use image shape embeddings for consistent model input.  \n",
        "- Experiment with edge detection, color space transformations, and feature extraction.  \n",
        "\n",
        "## 4. Further Improvements  \n",
        "- Expand dataset analysis with color-based feature extraction.  \n",
        "- Validate class balance across additional test sets to ensure model robustness.  \n",
        "\n",
        "---\n",
        "\n",
        "This concludes the Data Visualization phase.  \n",
        "Next, we move to preprocessing and model training.  "
      ]
    }
  ],
  "metadata": {
    "accelerator": "GPU",
    "colab": {
      "name": "Data Practitioner Jupyter Notebook.ipynb",
      "provenance": [],
      "toc_visible": true
    },
    "kernelspec": {
      "display_name": "Python 3",
      "language": "python",
      "name": "python3"
    },
    "language_info": {
      "codemirror_mode": {
        "name": "ipython",
        "version": 3
      },
      "file_extension": ".py",
      "mimetype": "text/x-python",
      "name": "python",
      "nbconvert_exporter": "python",
      "pygments_lexer": "ipython3",
      "version": "3.12.1"
    },
    "orig_nbformat": 2
  },
  "nbformat": 4,
  "nbformat_minor": 2
}
